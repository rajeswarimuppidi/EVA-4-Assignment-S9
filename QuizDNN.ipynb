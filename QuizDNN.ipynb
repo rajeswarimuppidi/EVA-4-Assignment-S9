{
  "nbformat": 4,
  "nbformat_minor": 0,
  "metadata": {
    "colab": {
      "name": "QuizDNN.ipynb",
      "provenance": [],
      "authorship_tag": "ABX9TyOzBBsHPw/8j5O6uiCDEIpP",
      "include_colab_link": true
    },
    "kernelspec": {
      "name": "python3",
      "display_name": "Python 3"
    }
  },
  "cells": [
    {
      "cell_type": "markdown",
      "metadata": {
        "id": "view-in-github",
        "colab_type": "text"
      },
      "source": [
        "<a href=\"https://colab.research.google.com/github/rajeswarimuppidi/EVA-4-Assignment-S9/blob/master/QuizDNN.ipynb\" target=\"_parent\"><img src=\"https://colab.research.google.com/assets/colab-badge.svg\" alt=\"Open In Colab\"/></a>"
      ]
    },
    {
      "cell_type": "code",
      "metadata": {
        "id": "vUcXTzDohcW-",
        "colab_type": "code",
        "colab": {}
      },
      "source": [
        "import torch\n",
        "import torch.nn as nn\n",
        "import torch.nn.functional as F\n",
        "from eva4models import Net\n",
        "\n",
        "class QuizNet(Net):\n",
        "    def __init__(self, name=\"Model\", dropout_value=0):\n",
        "        super(QuizNet, self).__init__(name)\n",
        "\t\t\n",
        "\t\t\n",
        "        self.conv0 = self.create_conv2d(3, 32, dropout=dropout_value)  \n",
        "        self.conv1= self.create_conv2d(32, 32, dropout=dropout_value) \n",
        "        self.conv2 = self.create_conv2d(32, 32, dropout=dropout_value) \n",
        "\n",
        "        \n",
        "        self.pool1 = nn.MaxPool2d(2, 2)\n",
        "        self.conv3_0 = self.create_conv2d(32, 64, kernel_size=(1,1),padding=0)\n",
        "        self.conv3 = self.create_conv2d(32, 64, dropout=dropout_value) \n",
        "        self.conv4 = self.create_conv2d(64, 64, dropout=dropout_value) \n",
        "        self.conv5 = self.create_conv2d(64, 64, dropout=dropout_value)\n",
        "\n",
        "        self.pool2 = nn.MaxPool2d(2, 2) \n",
        "        self.conv6_0 = self.create_conv2d(64, 128, kernel_size=(1,1),padding=0)\n",
        "        self.conv6 = self.create_conv2d(64, 128, dropout=dropout_value)\n",
        "        self.conv7 = self.create_conv2d(128, 128, dropout=dropout_value)\n",
        "        self.conv8 = self.create_conv2d(128, 128, dropout=dropout_value) \n",
        "\n",
        "        self.pool3 = nn.MaxPool2d(2, 2)         \n",
        "        \n",
        "        # GAP + FC\n",
        "        #self.gap = nn.AvgPool2d(kernel_size=(4,4)) \n",
        "        self.conv9 = self.create_conv2d(128, 10, kernel_size=(1,1), padding=0, bn=False, relu=False) # IN: 256 OUT:10\n",
        "\n",
        "    def forward(self, x):\n",
        "      x1 = self.conv0(x)          #x1 = Input\n",
        "      x2 = self.conv1(x1)      # x2 = Conv(x1)\n",
        "      x2 = x1 + x2\n",
        "      x3 = self.conv2(x2)      # x3 = Conv(x1 + x2)\n",
        "\n",
        "      x3 = x2 + x3\n",
        "      x4 = self.pool1(x3)       # x4 = MaxPooling(x1 + x2 + x3)\n",
        "\n",
        "      x4_0 = self.conv3_0(x4) \n",
        "      x5 = self.conv3(x4)   # x5 = Conv(x4)  and transition from 32 to 64\n",
        "      x5 = x4_0 + x5\n",
        "      x6 = self.conv4(x5)       #x6 = Conv(x4 + x5)\n",
        "      x6 = x5 + x6\n",
        "      x7 = self.conv5(x6)       # x7 = Conv(x4 + x5 + x6)\n",
        "\n",
        "      x8 = self.pool2(x7)       # x8 = MaxPooling(x5 + x6 + x7)\n",
        "      x8_0 = self.conv6_0(x8)\n",
        "      \n",
        "      x9 = self.conv6(x8)       # x9 = Conv(x8)\n",
        "      x9 = x8_0 + x9\n",
        "      x10 = self.conv7(x9)      # x10 = Conv (x8 + x9)\n",
        "      x10 = x9 + x10\n",
        "      x11 = self.conv8(x10)     # x11 = Conv (x8 + x9 + x10)\n",
        "        \n",
        "      x12 = F.adaptive_avg_pool2d(x11, 1)   # x12 = GAP(x11)\n",
        "      y = self.conv9(x12)        # x13 = FC(x12)   here X13 is y\n",
        "\n",
        "      y = y.view(-1, 10)\n",
        "      return F.log_softmax(y, dim=-1)"
      ],
      "execution_count": 0,
      "outputs": []
    }
  ]
}